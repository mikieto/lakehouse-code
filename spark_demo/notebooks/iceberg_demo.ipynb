{
 "cells": [
  {
   "cell_type": "code",
   "execution_count": null,
   "id": "93c5d28c",
   "metadata": {
    "vscode": {
     "languageId": "plaintext"
    }
   },
   "outputs": [],
   "source": [
    "# Load CSV and write as Iceberg table\n",
    "from pyspark.sql import SparkSession\n",
    "\n",
    "spark = SparkSession.builder \\\n",
    "    .appName(\"IcebergDemo\") \\\n",
    "    .config(\"spark.sql.catalog.demo\",\"org.apache.iceberg.spark.SparkCatalog\") \\\n",
    "    .config(\"spark.sql.catalog.demo.type\",\"hadoop\") \\\n",
    "    .config(\"spark.sql.catalog.demo.warehouse\",\"s3a://demo-iceberg/\") \\\n",
    "    .getOrCreate()\n",
    "\n",
    "df = spark.read.option(\"header\",\"true\").csv(\"/data/sample.csv\")\n",
    "df.writeTo(\"demo.default.customer\").using(\"iceberg\").createOrReplace()\n"
   ]
  }
 ],
 "metadata": {
  "language_info": {
   "name": "python"
  }
 },
 "nbformat": 4,
 "nbformat_minor": 5
}
